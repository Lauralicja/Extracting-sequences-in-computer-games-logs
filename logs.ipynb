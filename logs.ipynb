{
  "nbformat": 4,
  "nbformat_minor": 0,
  "metadata": {
    "colab": {
      "name": "Untitled0.ipynb",
      "provenance": [],
      "mount_file_id": "1ZZrFq9JjCBXlV6Fo1RB9QXJQEvdTkbia",
      "authorship_tag": "ABX9TyPiGl0drgVE2pK4QB78Mitz",
      "include_colab_link": true
    },
    "kernelspec": {
      "name": "python3",
      "display_name": "Python 3"
    }
  },
  "cells": [
    {
      "cell_type": "markdown",
      "metadata": {
        "id": "view-in-github",
        "colab_type": "text"
      },
      "source": [
        "<a href=\"https://colab.research.google.com/github/Lauralicja/Extracting-sequences-in-computer-games-logs/blob/main/logs.ipynb\" target=\"_parent\"><img src=\"https://colab.research.google.com/assets/colab-badge.svg\" alt=\"Open In Colab\"/></a>"
      ]
    },
    {
      "cell_type": "code",
      "metadata": {
        "id": "Sabhvhr5YJUP"
      },
      "source": [
        "import os\n",
        "import json\n",
        "from functools import reduce"
      ],
      "execution_count": 10,
      "outputs": []
    },
    {
      "cell_type": "code",
      "metadata": {
        "id": "7uBobgmxn3nE"
      },
      "source": [
        "dirs = []\n",
        "for (dirpath, dirnames, filenames) in os.walk('drive/MyDrive/BIRAFFE2-games/'):\n",
        "    dirs.extend(dirnames)\n",
        "    break"
      ],
      "execution_count": null,
      "outputs": []
    },
    {
      "cell_type": "code",
      "metadata": {
        "id": "PfMrfTnpchrH"
      },
      "source": [
        "for dir in dirs[-1:]:\n",
        "  with open('drive/MyDrive/BIRAFFE2-games/' + dir + '/' + dir + '-Level01_Log.json') as file_json:\n",
        "    raw_json = json.loads(file_json.read())"
      ],
      "execution_count": 34,
      "outputs": []
    },
    {
      "cell_type": "code",
      "metadata": {
        "id": "NG5miehKdhON"
      },
      "source": [
        "def log_diffs(e1, e2):\n",
        "  for i in ['deathCount', 'shootsCounter', 'hitCounter', 'health', 'money', 'collectedMoney', 'collectedHealth']:\n",
        "    if e1[i] != e2[i]:\n",
        "      return i\n",
        "  return None"
      ],
      "execution_count": 40,
      "outputs": []
    },
    {
      "cell_type": "code",
      "metadata": {
        "colab": {
          "base_uri": "https://localhost:8080/"
        },
        "id": "qZhC0Oh4e1Rj",
        "outputId": "b2012479-8449-4697-982b-db91c157b7b8"
      },
      "source": [
        "filtered_logs = [raw_json[0]]\n",
        "for log in raw_json[1:]:\n",
        "  diff = log_diffs(log, filtered_logs[-1])\n",
        "  if diff is not None:\n",
        "    log['event'] = diff       # add key that has changed\n",
        "    filtered_logs.append(log)\n",
        "print(len(filtered_logs), '/', len(raw_json))"
      ],
      "execution_count": 41,
      "outputs": [
        {
          "output_type": "stream",
          "text": [
            "219 / 3009\n"
          ],
          "name": "stdout"
        }
      ]
    },
    {
      "cell_type": "code",
      "metadata": {
        "id": "MTr0H6ofnv7b"
      },
      "source": [
        "print(filtered_logs)"
      ],
      "execution_count": null,
      "outputs": []
    }
  ]
}