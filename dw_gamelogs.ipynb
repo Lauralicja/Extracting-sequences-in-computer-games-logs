{
  "nbformat": 4,
  "nbformat_minor": 0,
  "metadata": {
    "colab": {
      "name": "dw-gamelogs.ipynb",
      "provenance": [],
      "mount_file_id": "1ZZrFq9JjCBXlV6Fo1RB9QXJQEvdTkbia",
      "authorship_tag": "ABX9TyO5KVeksKTaAo0gwmjrKmCf",
      "include_colab_link": true
    },
    "kernelspec": {
      "name": "python3",
      "display_name": "Python 3"
    }
  },
  "cells": [
    {
      "cell_type": "markdown",
      "metadata": {
        "id": "view-in-github",
        "colab_type": "text"
      },
      "source": [
        "<a href=\"https://colab.research.google.com/github/Lauralicja/Extracting-sequences-in-computer-games-logs/blob/main/dw_gamelogs.ipynb\" target=\"_parent\"><img src=\"https://colab.research.google.com/assets/colab-badge.svg\" alt=\"Open In Colab\"/></a>"
      ]
    },
    {
      "cell_type": "code",
      "metadata": {
        "id": "Sabhvhr5YJUP"
      },
      "source": [
        "import os\n",
        "import json\n",
        "from functools import reduce"
      ],
      "execution_count": 1,
      "outputs": []
    },
    {
      "cell_type": "code",
      "metadata": {
        "id": "NG5miehKdhON"
      },
      "source": [
        "  def log_diffs(e1, e2):\n",
        "    for i in ['deathCount', 'shootsCounter', 'hitCounter', 'collectedMoney', 'collectedHealth', 'health', 'money']:\n",
        "      if e1[i] != e2[i]:\n",
        "        return i\n",
        "    return None"
      ],
      "execution_count": 4,
      "outputs": []
    },
    {
      "cell_type": "code",
      "metadata": {
        "id": "qZhC0Oh4e1Rj"
      },
      "source": [
        "def filter_logs(raw_json):\n",
        "  filtered_logs = [raw_json[0]]\n",
        "  for log in raw_json[1:]:\n",
        "    diff = log_diffs(log, filtered_logs[-1])\n",
        "    if diff is not None:\n",
        "      log['event'] = diff       # add key that has changed\n",
        "      filtered_logs.append(log)\n",
        "\n",
        "  last_log = raw_json[-1]\n",
        "  last_log['event'] = 'complete'\n",
        "  filtered_logs.append(last_log)\n",
        "\n",
        "  print(len(filtered_logs), '/', len(raw_json))\n",
        "  return filtered_logs"
      ],
      "execution_count": 5,
      "outputs": []
    },
    {
      "cell_type": "code",
      "metadata": {
        "id": "7uBobgmxn3nE",
        "colab": {
          "base_uri": "https://localhost:8080/"
        },
        "outputId": "29173832-25ee-44d3-9b0a-44286c45f068"
      },
      "source": [
        "dirs = []\n",
        "for (dirpath, dirnames, filenames) in os.walk('drive/MyDrive/BIRAFFE2-games/'):\n",
        "    dirs.extend(dirnames)\n",
        "    break\n",
        "print(len(dirs))"
      ],
      "execution_count": 8,
      "outputs": [
        {
          "output_type": "stream",
          "text": [
            "102\n"
          ],
          "name": "stdout"
        }
      ]
    },
    {
      "cell_type": "code",
      "metadata": {
        "id": "PfMrfTnpchrH",
        "colab": {
          "base_uri": "https://localhost:8080/"
        },
        "outputId": "8adce7a3-644d-44e9-e233-3395b4f1b8d2"
      },
      "source": [
        "all_filtered_logs = []\n",
        "for dir in dirs:\n",
        "  with open('drive/MyDrive/BIRAFFE2-games/' + dir + '/' + dir + '-Level01_Log.json') as file_json:\n",
        "    all_filtered_logs.append(filter_logs(json.loads(file_json.read())))\n",
        "print('Parsing complete, examples: ', len(all_filtered_logs))"
      ],
      "execution_count": 11,
      "outputs": [
        {
          "output_type": "stream",
          "text": [
            "314 / 1181\n",
            "138 / 1657\n",
            "190 / 2380\n",
            "186 / 1286\n",
            "503 / 1982\n",
            "222 / 1484\n",
            "196 / 2532\n",
            "209 / 1964\n",
            "109 / 1376\n",
            "244 / 2137\n",
            "340 / 2748\n",
            "253 / 1250\n",
            "387 / 1978\n",
            "197 / 1422\n",
            "238 / 4029\n",
            "179 / 1193\n",
            "193 / 1697\n",
            "203 / 1611\n",
            "174 / 3405\n",
            "395 / 3108\n",
            "387 / 1220\n",
            "289 / 2933\n",
            "199 / 2112\n",
            "238 / 2304\n",
            "238 / 2191\n",
            "699 / 2671\n",
            "213 / 5004\n",
            "226 / 1819\n",
            "193 / 2395\n",
            "300 / 2310\n",
            "201 / 3748\n",
            "311 / 5613\n",
            "329 / 1475\n",
            "278 / 1494\n",
            "284 / 1768\n",
            "224 / 2166\n",
            "224 / 2083\n",
            "193 / 2534\n",
            "178 / 2081\n",
            "248 / 2376\n",
            "190 / 1398\n",
            "140 / 1500\n",
            "211 / 2267\n",
            "174 / 1702\n",
            "545 / 3627\n",
            "240 / 3300\n",
            "145 / 1870\n",
            "274 / 1763\n",
            "196 / 1442\n",
            "182 / 1115\n",
            "586 / 1691\n",
            "408 / 5007\n",
            "158 / 1039\n",
            "360 / 3500\n",
            "241 / 2074\n",
            "284 / 2177\n",
            "158 / 2290\n",
            "221 / 1287\n",
            "189 / 1106\n",
            "174 / 2353\n",
            "120 / 2718\n",
            "162 / 1819\n",
            "185 / 1670\n",
            "290 / 3292\n",
            "168 / 1684\n",
            "160 / 2527\n",
            "623 / 2773\n",
            "221 / 2324\n",
            "326 / 1958\n",
            "214 / 3000\n",
            "357 / 3016\n",
            "237 / 4526\n",
            "48 / 2722\n",
            "156 / 1497\n",
            "243 / 1428\n",
            "107 / 1652\n",
            "204 / 1703\n",
            "478 / 1479\n",
            "370 / 1861\n",
            "211 / 1511\n",
            "177 / 1860\n",
            "193 / 2909\n",
            "213 / 2275\n",
            "331 / 1804\n",
            "188 / 1617\n",
            "299 / 2289\n",
            "296 / 2435\n",
            "170 / 2723\n",
            "468 / 1585\n",
            "366 / 1758\n",
            "206 / 1916\n",
            "295 / 2924\n",
            "270 / 2430\n",
            "168 / 1211\n",
            "415 / 3607\n",
            "201 / 3061\n",
            "209 / 1219\n",
            "285 / 3512\n",
            "230 / 2952\n",
            "130 / 1803\n",
            "320 / 3622\n",
            "220 / 3009\n",
            "Parsing complete, examples:  102\n"
          ],
          "name": "stdout"
        }
      ]
    }
  ]
}